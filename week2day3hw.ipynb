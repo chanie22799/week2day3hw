{
 "cells": [
  {
   "cell_type": "code",
   "execution_count": 1,
   "metadata": {},
   "outputs": [
    {
     "name": "stdout",
     "output_type": "stream",
     "text": [
      "Square footage of the house: 40.0 square units\n",
      "Circumference of the circle: 18.849539999999998 units\n"
     ]
    }
   ],
   "source": [
    "import geometry_calculator\n",
    "length = float(input(\"Enter the length of the house: \"))\n",
    "width = float(input(\"Enter the width of the house: \"))\n",
    "area = geometry_calculator.calculate_square_footage(length, width)\n",
    "print(f\"Square footage of the house: {area} square units\")\n",
    "radius = float(input(\"\\nEnter the radius of the circle: \"))\n",
    "circumference = geometry_calculator.calculate_circumference(radius)\n",
    "print(f\"Circumference of the circle: {circumference} units\")\n"
   ]
  }
 ],
 "metadata": {
  "kernelspec": {
   "display_name": "Python 3",
   "language": "python",
   "name": "python3"
  },
  "language_info": {
   "codemirror_mode": {
    "name": "ipython",
    "version": 3
   },
   "file_extension": ".py",
   "mimetype": "text/x-python",
   "name": "python",
   "nbconvert_exporter": "python",
   "pygments_lexer": "ipython3",
   "version": "3.12.1"
  }
 },
 "nbformat": 4,
 "nbformat_minor": 2
}
